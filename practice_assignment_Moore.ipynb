{
  "nbformat": 4,
  "nbformat_minor": 0,
  "metadata": {
    "colab": {
      "name": "practice_assignment_starter.ipynb",
      "provenance": [],
      "include_colab_link": true
    },
    "kernelspec": {
      "name": "python3",
      "display_name": "Python 3"
    }
  },
  "cells": [
    {
      "cell_type": "markdown",
      "metadata": {
        "id": "view-in-github",
        "colab_type": "text"
      },
      "source": [
        "<a href=\"https://colab.research.google.com/github/merriekay/practice-assignment/blob/main/practice_assignment_Moore.ipynb\" target=\"_parent\"><img src=\"https://colab.research.google.com/assets/colab-badge.svg\" alt=\"Open In Colab\"/></a>"
      ]
    },
    {
      "cell_type": "markdown",
      "metadata": {
        "id": "nfq2exZ5CCXJ"
      },
      "source": [
        "# Practice Assignment \n",
        "The goal of this assignment is to get you familiar with using GitHub classroom and begin using Google Colab (www.colab.research.google.com). \n",
        "\n",
        "Below you will find a few tasks. Please complete them and submit your completed notebook to GitHub classroom.\n",
        "## Exercise Overview:\n",
        "1. Hello World\n",
        "2. Create a text cell that has the specified content.\n",
        "3. Create a code cell with a simple function and test it\n",
        "4. Import some data\n",
        "\n",
        "***"
      ]
    },
    {
      "cell_type": "markdown",
      "metadata": {
        "id": "wEFmynMxrkXI"
      },
      "source": [
        "## Exercise #1:"
      ]
    },
    {
      "cell_type": "code",
      "metadata": {
        "id": "HM45Ej1BCnSs",
        "outputId": "d346c89b-7677-495f-8bcf-db03dfdcef46",
        "colab": {
          "base_uri": "https://localhost:8080/"
        }
      },
      "source": [
        "#As with any new environment, start out by printing out Hello World\n",
        "#-------Your Code should go below-------------\n",
        "print('Hello World')\n",
        "\n",
        "# to run a cell, use the shortcut <shift + return> Try it now!"
      ],
      "execution_count": 2,
      "outputs": [
        {
          "output_type": "stream",
          "name": "stdout",
          "text": [
            "Hello World\n"
          ]
        }
      ]
    },
    {
      "cell_type": "markdown",
      "metadata": {
        "id": "1n1IsDhmEWRh"
      },
      "source": [
        "## Using different kinds of cells:\n",
        "\n",
        "One of the great things about using IPython Notebooks (.ipynb files), is that it is a great interface to combine functioning code with clear explanations. There are two main kinds of cells that you'll be using in your .ipynb:\n",
        "- Text Cells\n",
        "- Code Cells\n",
        "\n",
        "Text cells use Markdown (a lightweight markup language for creating formatted text using a plain-text editor). This means that you type in plain text, but add certian tags to indicate different levels of headings, dividers, **bold**/*italics*/`code`. [Here's a markdown cheatsheet](https://medium.com/@ingeh/markdown-for-jupyter-notebooks-cheatsheet-386c05aeebed).\n",
        "***\n"
      ]
    },
    {
      "cell_type": "markdown",
      "metadata": {
        "id": "M8BacCUqrLYW"
      },
      "source": [
        "## Exercise #2:\n",
        "### Text Cell:\n",
        "1. Below this text cell, create a new text cell (hover over the horizontal border and click ' + Text').\n",
        "2. Add some text content that tells me more about you. \n",
        "3. Add a title to the cell using the headings markdown\n",
        "4. Use 3 other markdown elements in the cell.\n",
        "\n",
        "Once you've added these elements, you can run the cell just like a code cell by using the <shift+return> shortcut."
      ]
    },
    {
      "cell_type": "markdown",
      "metadata": {
        "id": "i7dmiKYEaqyj"
      },
      "source": [
        "# Heading \n",
        "## Smaller heading\n",
        "### Even smaller heading\n",
        "\n",
        "**This is bold text**\n",
        "*this is italics*\n",
        "\n"
      ]
    },
    {
      "cell_type": "markdown",
      "metadata": {
        "id": "Y9u7RJcMsD-3"
      },
      "source": [
        "## Exercise #3:\n",
        "#### Code Cell:\n",
        "1. Now, create a code cell ( '+ Code' button). \n",
        "2. Write a function that takes in two numbers, x and y, and returns the product of the two numbers. \n",
        "3. Test your function by giving it two numbers and printing out the result."
      ]
    },
    {
      "cell_type": "code",
      "metadata": {
        "id": "D0PAwwxlsQYn",
        "outputId": "f9f8ffc9-97b0-4ec0-969b-fee5b22174ca",
        "colab": {
          "base_uri": "https://localhost:8080/"
        }
      },
      "source": [
        "def add(x,y): #write the function\n",
        "  return x + y \n",
        "\n",
        "add(5, 5) #test it"
      ],
      "execution_count": 3,
      "outputs": [
        {
          "output_type": "execute_result",
          "data": {
            "text/plain": [
              "10"
            ]
          },
          "metadata": {},
          "execution_count": 3
        }
      ]
    },
    {
      "cell_type": "markdown",
      "metadata": {
        "id": "2n_gHk8gC6RO"
      },
      "source": [
        "## Importing Data\n",
        "In general, Google Colab makes things easier--it allows collaboration, let's you use Google resources, and runs on a machine that has most everything already installed. \n",
        "\n",
        "If you have used IPython Notebooks before, you're probably used to being able (when running an IPython Notebook on your local machine) to import data using the command `df = pd.read_csv('data.csv')`, and as long as the data source (in the case of the example, data.csv') is in the same file that you are running the notebook from, it will work. \n",
        "\n",
        "Using Google Colab, however, we are not running the notebook on our local machine--we're using Google's machines to run the code. This makes importing data to Google Colab a little bit more tricky. \n",
        "\n"
      ]
    },
    {
      "cell_type": "markdown",
      "metadata": {
        "id": "F3JpIKMerw0z"
      },
      "source": [
        "## Exercise #4: Import Data"
      ]
    },
    {
      "cell_type": "code",
      "metadata": {
        "id": "1fRiUwRqBzs1"
      },
      "source": [
        "# Now let's try importing some data. \n",
        "import pandas as pd"
      ],
      "execution_count": 4,
      "outputs": []
    },
    {
      "cell_type": "code",
      "metadata": {
        "colab": {
          "base_uri": "https://localhost:8080/"
        },
        "id": "CgLCwKPYCAY1",
        "outputId": "dc328e37-15c6-490b-df85-89eaf9c610e5"
      },
      "source": [
        "# The first step is to mount your Google Drive to your Colab account. \n",
        "#You will be asked to authorize Colab to access your Google Drive. Follow the steps they lead you throuh.\n",
        "\n",
        "from google.colab import drive\n",
        "drive.mount('/content/drive')"
      ],
      "execution_count": 5,
      "outputs": [
        {
          "output_type": "stream",
          "name": "stdout",
          "text": [
            "Mounted at /content/drive\n"
          ]
        }
      ]
    },
    {
      "cell_type": "code",
      "metadata": {
        "colab": {
          "base_uri": "https://localhost:8080/",
          "height": 206
        },
        "id": "ZVXoM1-eIj-z",
        "outputId": "5b1b9b6c-27b3-4548-9037-faa597d37955"
      },
      "source": [
        "#Download the data, and put it in your Google Drive. Make a note of the path\n",
        "#I would suggest creating a datasets folder somewhere easy to get to, we'll be using this a lot.\n",
        "# your path will look like '/content/drive/MyDrive/....wherever you put the data'\n",
        "\n",
        "#change the following line so that it points to where you had put irisData.\n",
        "df = pd.read_csv('/content/drive/MyDrive/CS167/datasets/irisData.csv')\n",
        "df.head()"
      ],
      "execution_count": 6,
      "outputs": [
        {
          "output_type": "execute_result",
          "data": {
            "text/html": [
              "<div>\n",
              "<style scoped>\n",
              "    .dataframe tbody tr th:only-of-type {\n",
              "        vertical-align: middle;\n",
              "    }\n",
              "\n",
              "    .dataframe tbody tr th {\n",
              "        vertical-align: top;\n",
              "    }\n",
              "\n",
              "    .dataframe thead th {\n",
              "        text-align: right;\n",
              "    }\n",
              "</style>\n",
              "<table border=\"1\" class=\"dataframe\">\n",
              "  <thead>\n",
              "    <tr style=\"text-align: right;\">\n",
              "      <th></th>\n",
              "      <th>sepal length</th>\n",
              "      <th>sepal width</th>\n",
              "      <th>petal length</th>\n",
              "      <th>petal width</th>\n",
              "      <th>species</th>\n",
              "    </tr>\n",
              "  </thead>\n",
              "  <tbody>\n",
              "    <tr>\n",
              "      <th>0</th>\n",
              "      <td>5.1</td>\n",
              "      <td>3.5</td>\n",
              "      <td>1.4</td>\n",
              "      <td>0.2</td>\n",
              "      <td>Iris-setosa</td>\n",
              "    </tr>\n",
              "    <tr>\n",
              "      <th>1</th>\n",
              "      <td>4.9</td>\n",
              "      <td>3.0</td>\n",
              "      <td>1.4</td>\n",
              "      <td>0.2</td>\n",
              "      <td>Iris-setosa</td>\n",
              "    </tr>\n",
              "    <tr>\n",
              "      <th>2</th>\n",
              "      <td>4.7</td>\n",
              "      <td>3.2</td>\n",
              "      <td>1.3</td>\n",
              "      <td>0.2</td>\n",
              "      <td>Iris-setosa</td>\n",
              "    </tr>\n",
              "    <tr>\n",
              "      <th>3</th>\n",
              "      <td>4.6</td>\n",
              "      <td>3.1</td>\n",
              "      <td>1.5</td>\n",
              "      <td>0.2</td>\n",
              "      <td>Iris-setosa</td>\n",
              "    </tr>\n",
              "    <tr>\n",
              "      <th>4</th>\n",
              "      <td>5.0</td>\n",
              "      <td>3.6</td>\n",
              "      <td>1.4</td>\n",
              "      <td>0.2</td>\n",
              "      <td>Iris-setosa</td>\n",
              "    </tr>\n",
              "  </tbody>\n",
              "</table>\n",
              "</div>"
            ],
            "text/plain": [
              "   sepal length  sepal width  petal length  petal width      species\n",
              "0           5.1          3.5           1.4          0.2  Iris-setosa\n",
              "1           4.9          3.0           1.4          0.2  Iris-setosa\n",
              "2           4.7          3.2           1.3          0.2  Iris-setosa\n",
              "3           4.6          3.1           1.5          0.2  Iris-setosa\n",
              "4           5.0          3.6           1.4          0.2  Iris-setosa"
            ]
          },
          "metadata": {},
          "execution_count": 6
        }
      ]
    },
    {
      "cell_type": "code",
      "metadata": {
        "id": "26sBEZ7oKJFv"
      },
      "source": [
        ""
      ],
      "execution_count": null,
      "outputs": []
    }
  ]
}